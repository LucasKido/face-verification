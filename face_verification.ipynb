{
 "cells": [
  {
   "cell_type": "markdown",
   "metadata": {},
   "source": [
    "<h1>Face Verification</h1>\n",
    "\n",
    "<font size=4>Importando as bibliotecas</font>"
   ]
  },
  {
   "cell_type": "code",
   "execution_count": 1,
   "metadata": {},
   "outputs": [],
   "source": [
    "import pandas as pd\n",
    "import numpy as np\n",
    "from PIL import Image\n",
    "import os\n",
    "import face_recognition"
   ]
  },
  {
   "cell_type": "markdown",
   "metadata": {},
   "source": [
    "<font size=4>Carregando o dataset feito pelo <i>mk_dataset.ipynb</i></font>"
   ]
  },
  {
   "cell_type": "code",
   "execution_count": 2,
   "metadata": {},
   "outputs": [
    {
     "data": {
      "text/html": [
       "<div>\n",
       "<style scoped>\n",
       "    .dataframe tbody tr th:only-of-type {\n",
       "        vertical-align: middle;\n",
       "    }\n",
       "\n",
       "    .dataframe tbody tr th {\n",
       "        vertical-align: top;\n",
       "    }\n",
       "\n",
       "    .dataframe thead th {\n",
       "        text-align: right;\n",
       "    }\n",
       "</style>\n",
       "<table border=\"1\" class=\"dataframe\">\n",
       "  <thead>\n",
       "    <tr style=\"text-align: right;\">\n",
       "      <th></th>\n",
       "      <th>anchor</th>\n",
       "      <th>positive</th>\n",
       "      <th>negative</th>\n",
       "    </tr>\n",
       "  </thead>\n",
       "  <tbody>\n",
       "    <tr>\n",
       "      <th>0</th>\n",
       "      <td>faces/madonna/madonna_8.jpg</td>\n",
       "      <td>faces/madonna/madonna_1.jpg</td>\n",
       "      <td>faces/elton_john/elton_john_4.jpg</td>\n",
       "    </tr>\n",
       "    <tr>\n",
       "      <th>1</th>\n",
       "      <td>faces/mindy_kaling/mindy_kaling_4.jpg</td>\n",
       "      <td>faces/mindy_kaling/mindy_kaling_7.jpg</td>\n",
       "      <td>faces/elton_john/elton_john_5.jpg</td>\n",
       "    </tr>\n",
       "    <tr>\n",
       "      <th>2</th>\n",
       "      <td>faces/jerry_seinfeld/jerry_seinfeld_2.jpg</td>\n",
       "      <td>faces/jerry_seinfeld/jerry_seinfeld_0.jpg</td>\n",
       "      <td>faces/ben_afflek/ben_afflek_4.jpg</td>\n",
       "    </tr>\n",
       "    <tr>\n",
       "      <th>3</th>\n",
       "      <td>faces/ben_afflek/ben_afflek_6.jpg</td>\n",
       "      <td>faces/ben_afflek/ben_afflek_7.jpg</td>\n",
       "      <td>faces/mindy_kaling/mindy_kaling_3.jpg</td>\n",
       "    </tr>\n",
       "    <tr>\n",
       "      <th>4</th>\n",
       "      <td>faces/madonna/madonna_5.jpg</td>\n",
       "      <td>faces/madonna/madonna_4.jpg</td>\n",
       "      <td>faces/ben_afflek/ben_afflek_5.jpg</td>\n",
       "    </tr>\n",
       "  </tbody>\n",
       "</table>\n",
       "</div>"
      ],
      "text/plain": [
       "                                      anchor  \\\n",
       "0                faces/madonna/madonna_8.jpg   \n",
       "1      faces/mindy_kaling/mindy_kaling_4.jpg   \n",
       "2  faces/jerry_seinfeld/jerry_seinfeld_2.jpg   \n",
       "3          faces/ben_afflek/ben_afflek_6.jpg   \n",
       "4                faces/madonna/madonna_5.jpg   \n",
       "\n",
       "                                    positive  \\\n",
       "0                faces/madonna/madonna_1.jpg   \n",
       "1      faces/mindy_kaling/mindy_kaling_7.jpg   \n",
       "2  faces/jerry_seinfeld/jerry_seinfeld_0.jpg   \n",
       "3          faces/ben_afflek/ben_afflek_7.jpg   \n",
       "4                faces/madonna/madonna_4.jpg   \n",
       "\n",
       "                                negative  \n",
       "0      faces/elton_john/elton_john_4.jpg  \n",
       "1      faces/elton_john/elton_john_5.jpg  \n",
       "2      faces/ben_afflek/ben_afflek_4.jpg  \n",
       "3  faces/mindy_kaling/mindy_kaling_3.jpg  \n",
       "4      faces/ben_afflek/ben_afflek_5.jpg  "
      ]
     },
     "execution_count": 2,
     "metadata": {},
     "output_type": "execute_result"
    }
   ],
   "source": [
    "df = pd.read_csv('image-triplets.csv')\n",
    "df.head()"
   ]
  },
  {
   "cell_type": "markdown",
   "metadata": {},
   "source": [
    "<font size=4>Criando uma função que receba as três imagens e printe se é a mesma pessoa ou não e as suas distâncias.</font>"
   ]
  },
  {
   "cell_type": "code",
   "execution_count": 3,
   "metadata": {},
   "outputs": [],
   "source": [
    "def compare_faces(line, tolerance=0.6):\n",
    "    tolerance = tolerance\n",
    "    \n",
    "    img_a = face_recognition.load_image_file(line[0])\n",
    "    img_p = face_recognition.load_image_file(line[1])\n",
    "    img_n = face_recognition.load_image_file(line[2])\n",
    "    \n",
    "    enc_a = face_recognition.face_encodings(img_a)[0]\n",
    "    enc_p = face_recognition.face_encodings(img_p)[0]\n",
    "    enc_n = face_recognition.face_encodings(img_n)[0]\n",
    "    \n",
    "    dist_ap = face_recognition.face_distance([enc_a], enc_p)\n",
    "    dist_an = face_recognition.face_distance([enc_a], enc_n)\n",
    "    \n",
    "    comp_ap = face_recognition.compare_faces([enc_a], enc_p, tolerance)\n",
    "    comp_an = face_recognition.compare_faces([enc_a], enc_n, tolerance)\n",
    "    \n",
    "    print('Positive ~ Anchor:\\t{}\\t{}'.format(comp_ap, dist_ap))\n",
    "    print('Negative ~ Anchor:\\t{}\\t{}'.format(comp_an, dist_an))"
   ]
  },
  {
   "cell_type": "markdown",
   "metadata": {},
   "source": [
    "<font size=4>Varrendo as linhas dos dataset e chamando a função previamente criada para visualizarmos os resultados.</font>"
   ]
  },
  {
   "cell_type": "code",
   "execution_count": 4,
   "metadata": {},
   "outputs": [
    {
     "name": "stdout",
     "output_type": "stream",
     "text": [
      "Tentativa:\t0\n",
      "Positive ~ Anchor:\t[True]\t[0.55690311]\n",
      "Negative ~ Anchor:\t[False]\t[0.96460511]\n",
      "Tentativa:\t1\n",
      "Positive ~ Anchor:\t[True]\t[0.45151247]\n",
      "Negative ~ Anchor:\t[False]\t[0.85319689]\n",
      "Tentativa:\t2\n",
      "Positive ~ Anchor:\t[True]\t[0.45594816]\n",
      "Negative ~ Anchor:\t[False]\t[0.75784083]\n",
      "Tentativa:\t3\n",
      "Positive ~ Anchor:\t[True]\t[0.39650495]\n",
      "Negative ~ Anchor:\t[False]\t[0.97159801]\n",
      "Tentativa:\t4\n",
      "Positive ~ Anchor:\t[False]\t[0.61900444]\n",
      "Negative ~ Anchor:\t[False]\t[0.93067593]\n",
      "Tentativa:\t5\n",
      "Positive ~ Anchor:\t[True]\t[0.55049254]\n",
      "Negative ~ Anchor:\t[False]\t[0.88339662]\n",
      "Tentativa:\t6\n",
      "Positive ~ Anchor:\t[True]\t[0.40215187]\n",
      "Negative ~ Anchor:\t[False]\t[0.69520129]\n",
      "Tentativa:\t7\n",
      "Positive ~ Anchor:\t[True]\t[0.43643892]\n",
      "Negative ~ Anchor:\t[False]\t[0.93412526]\n",
      "Tentativa:\t8\n",
      "Positive ~ Anchor:\t[True]\t[0.43799081]\n",
      "Negative ~ Anchor:\t[False]\t[1.01351561]\n",
      "Tentativa:\t9\n",
      "Positive ~ Anchor:\t[True]\t[0.42438436]\n",
      "Negative ~ Anchor:\t[False]\t[0.90993742]\n",
      "Tentativa:\t10\n",
      "Positive ~ Anchor:\t[True]\t[0.46487046]\n",
      "Negative ~ Anchor:\t[False]\t[0.97810993]\n",
      "Tentativa:\t11\n",
      "Positive ~ Anchor:\t[True]\t[0.42547948]\n",
      "Negative ~ Anchor:\t[False]\t[0.68052135]\n",
      "Tentativa:\t12\n",
      "Positive ~ Anchor:\t[True]\t[0.41729341]\n",
      "Negative ~ Anchor:\t[False]\t[0.99115359]\n",
      "Tentativa:\t13\n",
      "Positive ~ Anchor:\t[True]\t[0.45151247]\n",
      "Negative ~ Anchor:\t[False]\t[0.85045298]\n",
      "Tentativa:\t14\n",
      "Positive ~ Anchor:\t[True]\t[0.36282324]\n",
      "Negative ~ Anchor:\t[False]\t[0.75688439]\n",
      "Tentativa:\t15\n",
      "Positive ~ Anchor:\t[True]\t[0.37991152]\n",
      "Negative ~ Anchor:\t[False]\t[0.79082282]\n",
      "Tentativa:\t16\n",
      "Positive ~ Anchor:\t[True]\t[0.58495095]\n",
      "Negative ~ Anchor:\t[False]\t[0.9559081]\n",
      "Tentativa:\t17\n",
      "Positive ~ Anchor:\t[True]\t[0.41231391]\n",
      "Negative ~ Anchor:\t[False]\t[0.90808734]\n",
      "Tentativa:\t18\n",
      "Positive ~ Anchor:\t[True]\t[0.36163033]\n",
      "Negative ~ Anchor:\t[False]\t[0.87572541]\n",
      "Tentativa:\t19\n",
      "Positive ~ Anchor:\t[True]\t[0.46461885]\n",
      "Negative ~ Anchor:\t[False]\t[0.8668024]\n"
     ]
    }
   ],
   "source": [
    "for keys, values in df.iterrows():\n",
    "    print('Tentativa:\\t{}'.format(keys))\n",
    "    compare_faces(values)"
   ]
  },
  {
   "cell_type": "code",
   "execution_count": null,
   "metadata": {},
   "outputs": [],
   "source": []
  }
 ],
 "metadata": {
  "kernelspec": {
   "display_name": "Python 3",
   "language": "python",
   "name": "python3"
  },
  "language_info": {
   "codemirror_mode": {
    "name": "ipython",
    "version": 3
   },
   "file_extension": ".py",
   "mimetype": "text/x-python",
   "name": "python",
   "nbconvert_exporter": "python",
   "pygments_lexer": "ipython3",
   "version": "3.7.4"
  }
 },
 "nbformat": 4,
 "nbformat_minor": 4
}
