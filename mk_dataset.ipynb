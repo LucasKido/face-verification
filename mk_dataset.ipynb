{
 "cells": [
  {
   "cell_type": "markdown",
   "metadata": {},
   "source": [
    "<h1>Montando o dataset</h1>"
   ]
  },
  {
   "cell_type": "code",
   "execution_count": 1,
   "metadata": {},
   "outputs": [],
   "source": [
    "import numpy as np\n",
    "import pandas as pd\n",
    "from PIL import Image\n",
    "from mtcnn.mtcnn import MTCNN\n",
    "import os"
   ]
  },
  {
   "cell_type": "markdown",
   "metadata": {},
   "source": [
    "<h2>Detectando as faces</h2>\n",
    "<font size=3>Detectando as faces e recortando apenas a face nas imagens.</font>"
   ]
  },
  {
   "cell_type": "code",
   "execution_count": 2,
   "metadata": {},
   "outputs": [],
   "source": [
    "def detect_face(image_path, image_name, folder_name):\n",
    "    image = Image.open('image/'+image_path)\n",
    "    image = image.convert('RGB')\n",
    "    face = image\n",
    "    if not os.path.exists('./faces/'+folder_name):\n",
    "        os.mkdir('./faces/'+folder_name)\n",
    "    face.save('./faces/'+folder_name+'/'+image_name+'.jpg')"
   ]
  },
  {
   "cell_type": "markdown",
   "metadata": {},
   "source": [
    "<font size=3>Navegando pelo diretório ```./image/train``` e vamos formatando as imagens conforme a função acima.</font>"
   ]
  },
  {
   "cell_type": "code",
   "execution_count": 3,
   "metadata": {},
   "outputs": [],
   "source": [
    "def set_images():\n",
    "    for folder in os.listdir('./image/'):\n",
    "        if folder!='.DS_Store' and folder!='.ipynb_checkpoints':\n",
    "            print(folder)\n",
    "            num = 0\n",
    "            for photo in os.listdir('./image/'+folder):\n",
    "                if photo!='.DS_Store' and photo!='.ipynb_checkpoints':\n",
    "                    detect_face(image_path=folder+'/'+photo, image_name=folder+'_'+str(num), folder_name=folder)\n",
    "                    num += 1"
   ]
  },
  {
   "cell_type": "markdown",
   "metadata": {},
   "source": [
    "<font size=4><li>Create dataset with anchor, positive, negative path images</li></font>"
   ]
  },
  {
   "cell_type": "code",
   "execution_count": 4,
   "metadata": {},
   "outputs": [],
   "source": [
    "def get_data(folder_path, exception=None):\n",
    "    folder = os.listdir(folder_path)\n",
    "    number = np.random.randint(len(folder))\n",
    "    data = folder[number]\n",
    "    if folder[number]=='.ipynb_checkpoints' or folder[number]=='.DS_Store' or folder[number]==exception:\n",
    "        data = get_data(folder_path, exception)\n",
    "    return data"
   ]
  },
  {
   "cell_type": "code",
   "execution_count": 5,
   "metadata": {},
   "outputs": [],
   "source": [
    "def get_triplet():\n",
    "    person_a = get_data('./faces/')\n",
    "    photo_a_name = get_data('./faces/'+person_a)\n",
    "    photo_a = 'faces/' + person_a + '/' + photo_a_name\n",
    "    photo_p_name = get_data('./faces/'+person_a, photo_a_name)\n",
    "    photo_p = 'faces/' + person_a + '/' + photo_p_name\n",
    "    person_n = get_data('./faces/', person_a)\n",
    "    photo_n_name = get_data('./faces/'+person_n)\n",
    "    photo_n = 'faces/' + person_n + '/' + photo_n_name\n",
    "    triplet = [photo_a, photo_p, photo_n]\n",
    "    return triplet"
   ]
  },
  {
   "cell_type": "code",
   "execution_count": 6,
   "metadata": {},
   "outputs": [],
   "source": [
    "def set_dataset(number=20):\n",
    "    lista_teste = []\n",
    "    for i in range(number):\n",
    "        lista_teste.append(get_triplet())\n",
    "    return pd.DataFrame(lista_teste, columns=['anchor', 'positive', 'negative'])"
   ]
  },
  {
   "cell_type": "code",
   "execution_count": 7,
   "metadata": {},
   "outputs": [
    {
     "name": "stdout",
     "output_type": "stream",
     "text": [
      "ben_afflek\n",
      "madonna\n",
      "elton_john\n",
      "mindy_kaling\n",
      "jerry_seinfeld\n"
     ]
    }
   ],
   "source": [
    "set_images()\n",
    "df = set_dataset()\n",
    "df.to_csv('image-triplets.csv', index=False)"
   ]
  }
 ],
 "metadata": {
  "kernelspec": {
   "display_name": "Python 3",
   "language": "python",
   "name": "python3"
  },
  "language_info": {
   "codemirror_mode": {
    "name": "ipython",
    "version": 3
   },
   "file_extension": ".py",
   "mimetype": "text/x-python",
   "name": "python",
   "nbconvert_exporter": "python",
   "pygments_lexer": "ipython3",
   "version": "3.7.4"
  }
 },
 "nbformat": 4,
 "nbformat_minor": 4
}
